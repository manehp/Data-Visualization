{
 "cells": [
  {
   "cell_type": "markdown",
   "id": "5a823290",
   "metadata": {},
   "source": [
    "# Homework 1\n",
    "\n",
    "## Mane Papoyan"
   ]
  },
  {
   "cell_type": "code",
   "execution_count": null,
   "id": "cdde0eb5",
   "metadata": {},
   "outputs": [],
   "source": [
    "import pandas as pd"
   ]
  },
  {
   "cell_type": "markdown",
   "id": "7a18f50f",
   "metadata": {},
   "source": [
    "### Part 1: Data Cleaning and Exploration"
   ]
  },
  {
   "cell_type": "markdown",
   "id": "46d53e2b",
   "metadata": {},
   "source": [
    "##### 1. Load the dataset. Check the first 5 rows."
   ]
  },
  {
   "cell_type": "code",
   "execution_count": 100,
   "id": "994dcc31",
   "metadata": {},
   "outputs": [
    {
     "name": "stdout",
     "output_type": "stream",
     "text": [
      "       DR_NO               Date Rptd                DATE OCC  TIME OCC  AREA  \\\n",
      "0  241711715  08/01/2024 12:00:00 AM  08/01/2024 12:00:00 AM      1319    17   \n",
      "1  231014031  09/21/2023 12:00:00 AM  09/15/2023 12:00:00 AM      1930    10   \n",
      "2  231010808  06/27/2023 12:00:00 AM  06/26/2023 12:00:00 AM      1230    10   \n",
      "3  211410441  04/25/2021 12:00:00 AM  04/25/2021 12:00:00 AM      2330    14   \n",
      "4  211114569  10/25/2021 12:00:00 AM  10/25/2021 12:00:00 AM      1455    11   \n",
      "\n",
      "     AREA NAME  Rpt Dist No  Part 1-2  Crm Cd  \\\n",
      "0   Devonshire         1791         1     440   \n",
      "1  West Valley         1011         2     354   \n",
      "2  West Valley         1015         2     354   \n",
      "3      Pacific         1488         2     626   \n",
      "4    Northeast         1123         1     210   \n",
      "\n",
      "                          Crm Cd Desc  ... Status  Status Desc Crm Cd 1  \\\n",
      "0  THEFT PLAIN - PETTY ($950 & UNDER)  ...     IC  Invest Cont    440.0   \n",
      "1                   THEFT OF IDENTITY  ...     IC  Invest Cont    354.0   \n",
      "2                   THEFT OF IDENTITY  ...     IC  Invest Cont    354.0   \n",
      "3   INTIMATE PARTNER - SIMPLE ASSAULT  ...     IC  Invest Cont    626.0   \n",
      "4                             ROBBERY  ...     IC  Invest Cont    210.0   \n",
      "\n",
      "  Crm Cd 2  Crm Cd 3 Crm Cd 4                                  LOCATION  \\\n",
      "0      NaN       NaN      NaN   8300    KELVIN                       AV   \n",
      "1      NaN       NaN      NaN  18900    CANTLAY                      ST   \n",
      "2      NaN       NaN      NaN   7300    ENFIELD                      AV   \n",
      "3      NaN       NaN      NaN   5800 W  CENTURY                      BL   \n",
      "4      NaN       NaN      NaN   2900    LOS FELIZ                    BL   \n",
      "\n",
      "  Cross Street      LAT       LON  \n",
      "0          NaN  34.2200 -118.5863  \n",
      "1          NaN  34.2023 -118.5458  \n",
      "2          NaN  34.2033 -118.5241  \n",
      "3          NaN  33.9456 -118.3835  \n",
      "4          NaN   0.0000    0.0000  \n",
      "\n",
      "[5 rows x 28 columns]\n"
     ]
    }
   ],
   "source": [
    "df = pd.read_csv(\"crime_data.csv\")\n",
    "print(df.head())"
   ]
  },
  {
   "cell_type": "markdown",
   "id": "a791035d",
   "metadata": {},
   "source": [
    "###### 2. Identify columns with missing values and their respective counts. Drop columns where more than 50% of the data is missing (store this version as a new dataset). "
   ]
  },
  {
   "cell_type": "code",
   "execution_count": 101,
   "id": "a273d6fd",
   "metadata": {},
   "outputs": [
    {
     "name": "stdout",
     "output_type": "stream",
     "text": [
      "Number of missing values in each colomn:\n",
      " DR_NO                 0\n",
      "Date Rptd             0\n",
      "DATE OCC              0\n",
      "TIME OCC              0\n",
      "AREA                  0\n",
      "AREA NAME             0\n",
      "Rpt Dist No           0\n",
      "Part 1-2              0\n",
      "Crm Cd                0\n",
      "Crm Cd Desc           0\n",
      "Mocodes            7498\n",
      "Vict Age              0\n",
      "Vict Sex           7163\n",
      "Vict Descent       7165\n",
      "Premis Cd             0\n",
      "Premis Desc          29\n",
      "Weapon Used Cd    33654\n",
      "Weapon Desc       33654\n",
      "Status                0\n",
      "Status Desc           0\n",
      "Crm Cd 1              2\n",
      "Crm Cd 2          46448\n",
      "Crm Cd 3          49885\n",
      "Crm Cd 4          49995\n",
      "LOCATION              0\n",
      "Cross Street      42258\n",
      "LAT                   0\n",
      "LON                   0\n",
      "dtype: int64\n"
     ]
    }
   ],
   "source": [
    "missing_value_cols = df.isnull().sum()\n",
    "print(\"Number of missing values in each colomn:\\n\", missing_value_cols)"
   ]
  },
  {
   "cell_type": "code",
   "execution_count": 102,
   "id": "c9c4b876",
   "metadata": {},
   "outputs": [
    {
     "name": "stdout",
     "output_type": "stream",
     "text": [
      "Columns with missing values:\n",
      " Mocodes            7498\n",
      "Vict Sex           7163\n",
      "Vict Descent       7165\n",
      "Premis Desc          29\n",
      "Weapon Used Cd    33654\n",
      "Weapon Desc       33654\n",
      "Crm Cd 1              2\n",
      "Crm Cd 2          46448\n",
      "Crm Cd 3          49885\n",
      "Crm Cd 4          49995\n",
      "Cross Street      42258\n",
      "dtype: int64\n"
     ]
    }
   ],
   "source": [
    "print(\"Columns with missing values:\\n\", missing_value_cols[missing_value_cols > 0])"
   ]
  },
  {
   "cell_type": "code",
   "execution_count": 103,
   "id": "79caa5b9",
   "metadata": {},
   "outputs": [],
   "source": [
    "df_new = df.dropna(axis = 1, thresh = len(df) * 0.5)\n",
    "df_new.to_csv(\"crime_data_clean.csv\")"
   ]
  },
  {
   "cell_type": "markdown",
   "id": "f94beac2",
   "metadata": {},
   "source": [
    "###### 3. Convert the DATE OCC column to a datetime format. Extract the year, month, and day into separate columns. Create a new column for the hour using the TIME OCC column."
   ]
  },
  {
   "cell_type": "code",
   "execution_count": 104,
   "id": "93a58def",
   "metadata": {},
   "outputs": [
    {
     "name": "stderr",
     "output_type": "stream",
     "text": [
      "C:\\Users\\Administrator\\AppData\\Local\\Temp\\ipykernel_4092\\2436936426.py:1: SettingWithCopyWarning: \n",
      "A value is trying to be set on a copy of a slice from a DataFrame.\n",
      "Try using .loc[row_indexer,col_indexer] = value instead\n",
      "\n",
      "See the caveats in the documentation: https://pandas.pydata.org/pandas-docs/stable/user_guide/indexing.html#returning-a-view-versus-a-copy\n",
      "  df_new.loc[:, 'DATE OCC'] = pd.to_datetime(df_new['DATE OCC'], errors='coerce')\n",
      "C:\\Users\\Administrator\\AppData\\Local\\Temp\\ipykernel_4092\\2436936426.py:1: DeprecationWarning: In a future version, `df.iloc[:, i] = newvals` will attempt to set the values inplace instead of always setting a new array. To retain the old behavior, use either `df[df.columns[i]] = newvals` or, if columns are non-unique, `df.isetitem(i, newvals)`\n",
      "  df_new.loc[:, 'DATE OCC'] = pd.to_datetime(df_new['DATE OCC'], errors='coerce')\n"
     ]
    }
   ],
   "source": [
    "df_new.loc[:, 'DATE OCC'] = pd.to_datetime(df_new['DATE OCC'], errors='coerce')"
   ]
  },
  {
   "cell_type": "code",
   "execution_count": 105,
   "id": "6604a35a",
   "metadata": {},
   "outputs": [
    {
     "name": "stderr",
     "output_type": "stream",
     "text": [
      "C:\\Users\\Administrator\\AppData\\Local\\Temp\\ipykernel_4092\\1263500483.py:1: SettingWithCopyWarning: \n",
      "A value is trying to be set on a copy of a slice from a DataFrame.\n",
      "Try using .loc[row_indexer,col_indexer] = value instead\n",
      "\n",
      "See the caveats in the documentation: https://pandas.pydata.org/pandas-docs/stable/user_guide/indexing.html#returning-a-view-versus-a-copy\n",
      "  df_new.loc[:, 'Year'] = df_new['DATE OCC'].dt.year\n",
      "C:\\Users\\Administrator\\AppData\\Local\\Temp\\ipykernel_4092\\1263500483.py:2: SettingWithCopyWarning: \n",
      "A value is trying to be set on a copy of a slice from a DataFrame.\n",
      "Try using .loc[row_indexer,col_indexer] = value instead\n",
      "\n",
      "See the caveats in the documentation: https://pandas.pydata.org/pandas-docs/stable/user_guide/indexing.html#returning-a-view-versus-a-copy\n",
      "  df_new.loc[:, 'Month'] = df_new['DATE OCC'].dt.month\n",
      "C:\\Users\\Administrator\\AppData\\Local\\Temp\\ipykernel_4092\\1263500483.py:3: SettingWithCopyWarning: \n",
      "A value is trying to be set on a copy of a slice from a DataFrame.\n",
      "Try using .loc[row_indexer,col_indexer] = value instead\n",
      "\n",
      "See the caveats in the documentation: https://pandas.pydata.org/pandas-docs/stable/user_guide/indexing.html#returning-a-view-versus-a-copy\n",
      "  df_new.loc[:, 'Day'] = df_new['DATE OCC'].dt.day\n",
      "C:\\Users\\Administrator\\AppData\\Local\\Temp\\ipykernel_4092\\1263500483.py:4: SettingWithCopyWarning: \n",
      "A value is trying to be set on a copy of a slice from a DataFrame.\n",
      "Try using .loc[row_indexer,col_indexer] = value instead\n",
      "\n",
      "See the caveats in the documentation: https://pandas.pydata.org/pandas-docs/stable/user_guide/indexing.html#returning-a-view-versus-a-copy\n",
      "  df_new.loc[:, 'TIME OCC'] = pd.to_numeric(df_new['TIME OCC'], errors='coerce')\n",
      "C:\\Users\\Administrator\\AppData\\Local\\Temp\\ipykernel_4092\\1263500483.py:5: SettingWithCopyWarning: \n",
      "A value is trying to be set on a copy of a slice from a DataFrame.\n",
      "Try using .loc[row_indexer,col_indexer] = value instead\n",
      "\n",
      "See the caveats in the documentation: https://pandas.pydata.org/pandas-docs/stable/user_guide/indexing.html#returning-a-view-versus-a-copy\n",
      "  df_new.loc[:, 'Hour'] = (df_new['TIME OCC'] // 100) % 24\n"
     ]
    }
   ],
   "source": [
    "df_new.loc[:, 'Year'] = df_new['DATE OCC'].dt.year\n",
    "df_new.loc[:, 'Month'] = df_new['DATE OCC'].dt.month\n",
    "df_new.loc[:, 'Day'] = df_new['DATE OCC'].dt.day\n",
    "df_new.loc[:, 'TIME OCC'] = pd.to_numeric(df_new['TIME OCC'], errors='coerce')\n",
    "df_new.loc[:, 'Hour'] = (df_new['TIME OCC'] // 100) % 24"
   ]
  },
  {
   "cell_type": "code",
   "execution_count": 106,
   "id": "205a7f74",
   "metadata": {},
   "outputs": [
    {
     "name": "stdout",
     "output_type": "stream",
     "text": [
      "       DR_NO               Date Rptd   DATE OCC  TIME OCC  AREA    AREA NAME  \\\n",
      "0  241711715  08/01/2024 12:00:00 AM 2024-08-01      1319    17   Devonshire   \n",
      "1  231014031  09/21/2023 12:00:00 AM 2023-09-15      1930    10  West Valley   \n",
      "2  231010808  06/27/2023 12:00:00 AM 2023-06-26      1230    10  West Valley   \n",
      "3  211410441  04/25/2021 12:00:00 AM 2021-04-25      2330    14      Pacific   \n",
      "4  211114569  10/25/2021 12:00:00 AM 2021-10-25      1455    11    Northeast   \n",
      "\n",
      "   Rpt Dist No  Part 1-2  Crm Cd                         Crm Cd Desc  ...  \\\n",
      "0         1791         1     440  THEFT PLAIN - PETTY ($950 & UNDER)  ...   \n",
      "1         1011         2     354                   THEFT OF IDENTITY  ...   \n",
      "2         1015         2     354                   THEFT OF IDENTITY  ...   \n",
      "3         1488         2     626   INTIMATE PARTNER - SIMPLE ASSAULT  ...   \n",
      "4         1123         1     210                             ROBBERY  ...   \n",
      "\n",
      "  Status  Status Desc Crm Cd 1                                  LOCATION  \\\n",
      "0     IC  Invest Cont    440.0   8300    KELVIN                       AV   \n",
      "1     IC  Invest Cont    354.0  18900    CANTLAY                      ST   \n",
      "2     IC  Invest Cont    354.0   7300    ENFIELD                      AV   \n",
      "3     IC  Invest Cont    626.0   5800 W  CENTURY                      BL   \n",
      "4     IC  Invest Cont    210.0   2900    LOS FELIZ                    BL   \n",
      "\n",
      "       LAT       LON  Year Month  Day Hour  \n",
      "0  34.2200 -118.5863  2024     8    1   13  \n",
      "1  34.2023 -118.5458  2023     9   15   19  \n",
      "2  34.2033 -118.5241  2023     6   26   12  \n",
      "3  33.9456 -118.3835  2021     4   25   23  \n",
      "4   0.0000    0.0000  2021    10   25   14  \n",
      "\n",
      "[5 rows x 26 columns]\n"
     ]
    }
   ],
   "source": [
    "print(df_new.head())"
   ]
  },
  {
   "cell_type": "markdown",
   "id": "7d3a5528",
   "metadata": {},
   "source": [
    "###### 4. Filter the dataset for crimes that occurred in 2023. Further filter crimes with the description BURGLARY in the Crm Cd Desc column."
   ]
  },
  {
   "cell_type": "code",
   "execution_count": 107,
   "id": "1b3ccf0d",
   "metadata": {},
   "outputs": [],
   "source": [
    "df_new_23 = df_new[df_new['Year'] == 2023]"
   ]
  },
  {
   "cell_type": "code",
   "execution_count": 108,
   "id": "a530b100",
   "metadata": {},
   "outputs": [],
   "source": [
    "df_new_23_burglary = df_new_23[df_new_23['Crm Cd Desc'].str.upper() == 'BURGLARY']"
   ]
  },
  {
   "cell_type": "code",
   "execution_count": 119,
   "id": "17b905b0",
   "metadata": {},
   "outputs": [
    {
     "name": "stdout",
     "output_type": "stream",
     "text": [
      "           DR_NO               Date Rptd   DATE OCC  TIME OCC  AREA  \\\n",
      "47     231107877  04/15/2023 12:00:00 AM 2023-01-15       500    11   \n",
      "147    231912840  08/15/2023 12:00:00 AM 2023-08-14      2200    19   \n",
      "292    230813484  08/19/2023 12:00:00 AM 2023-08-19       510     8   \n",
      "317    230126836  12/20/2023 12:00:00 AM 2023-12-10      1200     1   \n",
      "326    231506351  02/26/2023 12:00:00 AM 2023-02-22      1230    15   \n",
      "...          ...                     ...        ...       ...   ...   \n",
      "49845  231606276  03/14/2023 12:00:00 AM 2023-03-14         1    16   \n",
      "49850  230811878  07/13/2023 12:00:00 AM 2023-06-23      1200     8   \n",
      "49874  231320692  11/16/2023 12:00:00 AM 2023-11-11      1600    13   \n",
      "49922  231515412  09/28/2023 12:00:00 AM 2023-09-26      1530    15   \n",
      "49990  230500901  11/12/2023 12:00:00 AM 2023-11-12      1315     5   \n",
      "\n",
      "         AREA NAME  Rpt Dist No  Part 1-2  Crm Cd Crm Cd Desc  ... Status  \\\n",
      "47       Northeast         1151         1     310    BURGLARY  ...     IC   \n",
      "147        Mission         1962         1     310    BURGLARY  ...     IC   \n",
      "292        West LA          857         1     310    BURGLARY  ...     IC   \n",
      "317        Central          154         1     310    BURGLARY  ...     IC   \n",
      "326    N Hollywood         1562         1     310    BURGLARY  ...     IC   \n",
      "...            ...          ...       ...     ...         ...  ...    ...   \n",
      "49845     Foothill         1677         1     310    BURGLARY  ...     IC   \n",
      "49850      West LA          807         1     310    BURGLARY  ...     IC   \n",
      "49874       Newton         1303         1     310    BURGLARY  ...     IC   \n",
      "49922  N Hollywood         1547         1     310    BURGLARY  ...     IC   \n",
      "49990       Harbor          515         1     310    BURGLARY  ...     IC   \n",
      "\n",
      "       Status Desc Crm Cd 1                                  LOCATION  \\\n",
      "47     Invest Cont    310.0   5000 W  SUNSET                       BL   \n",
      "147    Invest Cont    310.0  15000    CORE                         LN   \n",
      "292    Invest Cont    310.0   9400 W  PICO                         BL   \n",
      "317    Invest Cont    310.0    100 E  6TH                          ST   \n",
      "326    Invest Cont    310.0   4400    BABCOCK                      AV   \n",
      "...            ...      ...                                       ...   \n",
      "49845  Invest Cont    310.0   7800    SHADYCOVE                    AV   \n",
      "49850  Invest Cont    310.0   1800    CALGARY                      LN   \n",
      "49874  Invest Cont    310.0    500 E  9TH                          ST   \n",
      "49922  Invest Cont    310.0  11400    ALBERS                       ST   \n",
      "49990  Invest Cont    310.0   1500    BAY VIEW                     AV   \n",
      "\n",
      "           LAT       LON  Year Month  Day Hour  \n",
      "47     34.0981 -118.2983  2023     1   15    5  \n",
      "147    34.2424 -118.4596  2023     8   14   22  \n",
      "292    34.0553 -118.3943  2023     8   19    5  \n",
      "317    34.0460 -118.2493  2023    12   10   12  \n",
      "326    34.1504 -118.4063  2023     2   22   12  \n",
      "...        ...       ...   ...   ...  ...  ...  \n",
      "49845  34.2130 -118.3442  2023     3   14    0  \n",
      "49850  34.1044 -118.4448  2023     6   23   12  \n",
      "49874  34.0388 -118.2519  2023    11   11   16  \n",
      "49922  34.1705 -118.3790  2023     9   26   15  \n",
      "49990  33.7929 -118.2710  2023    11   12   13  \n",
      "\n",
      "[725 rows x 26 columns]\n"
     ]
    }
   ],
   "source": [
    "print(df_new_23_burglary)"
   ]
  },
  {
   "cell_type": "markdown",
   "id": "9c33c600",
   "metadata": {},
   "source": [
    "###### 5. Group the data by AREA NAME and calculate the total number of crimes and the average victim age. Sort the results by total crimes in descending order. "
   ]
  },
  {
   "cell_type": "code",
   "execution_count": 109,
   "id": "507e6653",
   "metadata": {},
   "outputs": [],
   "source": [
    "df_new_groupby_area = df_new_23_burglary.groupby('AREA NAME').agg(total_crimes=('Crm Cd Desc', 'count'),\n",
    "                                                           avg_victim_age=('Vict Age', 'mean')).reset_index()"
   ]
  },
  {
   "cell_type": "code",
   "execution_count": 110,
   "id": "b8e214bb",
   "metadata": {},
   "outputs": [
    {
     "name": "stdout",
     "output_type": "stream",
     "text": [
      "      AREA NAME  total_crimes  avg_victim_age\n",
      "2    Devonshire            58       43.896552\n",
      "18      West LA            58       40.879310\n",
      "11      Olympic            53       30.283019\n",
      "19  West Valley            52       35.173077\n",
      "8   N Hollywood            50       29.660000\n",
      "20     Wilshire            48       39.041667\n",
      "12      Pacific            48       24.520833\n",
      "17     Van Nuys            44       41.704545\n",
      "15    Southwest            32       35.656250\n",
      "0   77th Street            31       30.129032\n",
      "16      Topanga            30       42.300000\n",
      "1       Central            29       22.241379\n",
      "13      Rampart            26       24.653846\n",
      "6     Hollywood            25       28.240000\n",
      "10    Northeast            25       32.120000\n",
      "9        Newton            24       20.333333\n",
      "5    Hollenbeck            22       19.318182\n",
      "4        Harbor            22       27.818182\n",
      "3      Foothill            18       35.888889\n",
      "14    Southeast            16       40.750000\n",
      "7       Mission            14       42.571429\n"
     ]
    }
   ],
   "source": [
    "print(df_new_groupby_area.sort_values(by='total_crimes', ascending=False))"
   ]
  },
  {
   "cell_type": "markdown",
   "id": "b5ac4300",
   "metadata": {},
   "source": [
    "### Part 2: Further Exploration"
   ]
  },
  {
   "cell_type": "markdown",
   "id": "aec984fb",
   "metadata": {},
   "source": [
    "###### 1. Find the top 3 most frequent Crm Cd Desc values."
   ]
  },
  {
   "cell_type": "code",
   "execution_count": 111,
   "id": "6c457afa",
   "metadata": {},
   "outputs": [
    {
     "name": "stdout",
     "output_type": "stream",
     "text": [
      "VEHICLE - STOLEN            5733\n",
      "BATTERY - SIMPLE ASSAULT    3715\n",
      "THEFT OF IDENTITY           3169\n",
      "Name: Crm Cd Desc, dtype: int64\n"
     ]
    }
   ],
   "source": [
    "print(df_new['Crm Cd Desc'].value_counts().head(3))"
   ]
  },
  {
   "cell_type": "markdown",
   "id": "62a73439",
   "metadata": {},
   "source": [
    "###### 2. Group the data by Hour and count the number of crimes. "
   ]
  },
  {
   "cell_type": "code",
   "execution_count": 112,
   "id": "aed8df34",
   "metadata": {},
   "outputs": [
    {
     "name": "stdout",
     "output_type": "stream",
     "text": [
      "    Hour  crime_count\n",
      "0      0         2025\n",
      "1      1         1490\n",
      "2      2         1241\n",
      "3      3         1063\n",
      "4      4          975\n",
      "5      5          848\n",
      "6      6         1106\n",
      "7      7         1302\n",
      "8      8         1776\n",
      "9      9         1841\n",
      "10    10         2110\n",
      "11    11         2114\n",
      "12    12         3446\n",
      "13    13         2246\n",
      "14    14         2504\n",
      "15    15         2667\n",
      "16    16         2597\n",
      "17    17         2914\n",
      "18    18         3015\n",
      "19    19         2762\n",
      "20    20         2830\n",
      "21    21         2553\n",
      "22    22         2469\n",
      "23    23         2106\n"
     ]
    }
   ],
   "source": [
    "print(df_new.groupby('Hour').size().reset_index(name='crime_count'))"
   ]
  },
  {
   "cell_type": "code",
   "execution_count": 113,
   "id": "4250d34e",
   "metadata": {},
   "outputs": [
    {
     "name": "stdout",
     "output_type": "stream",
     "text": [
      "  Vict Sex  total_crimes  avg_victim_age\n",
      "0        F         17922       38.164156\n",
      "1        H             3       36.333333\n",
      "2        M         20076       37.165621\n",
      "3        X          4836        2.672043\n"
     ]
    }
   ],
   "source": [
    "print(df_new.groupby('Vict Sex').agg(total_crimes=('Crm Cd Desc', 'count'),\n",
    "                                                   avg_victim_age=('Vict Age', 'mean')).reset_index())"
   ]
  },
  {
   "cell_type": "markdown",
   "id": "cc44ba25",
   "metadata": {},
   "source": [
    "### Part 4: Advanced Analysis "
   ]
  },
  {
   "cell_type": "markdown",
   "id": "fc7e59cc",
   "metadata": {},
   "source": [
    "###### 1. Create a new column, Severity Score, based on the following rules: \n",
    "\n",
    "• Assign 5 points if a weapon was used (Weapon Used Cd is not null). \n",
    "\n",
    "• Assign 3 points for crimes under BURGLARY. \n",
    "\n",
    "• Assign 1 point for all other crimes. \n",
    "\n",
    "• Group by AREA NAME and find the total severity score for each area."
   ]
  },
  {
   "cell_type": "code",
   "execution_count": 114,
   "id": "02508241",
   "metadata": {},
   "outputs": [],
   "source": [
    "def severity(row):\n",
    "    severity_score = 0\n",
    "    if pd.notnull(row['Weapon Used Cd']):\n",
    "        severity_score += 5\n",
    "    if row['Crm Cd Desc'] == 'BURGLARY':\n",
    "        severity_score += 3\n",
    "    if severity_score == 0:\n",
    "        severity_score += 1\n",
    "    return severity_score"
   ]
  },
  {
   "cell_type": "code",
   "execution_count": 115,
   "id": "0d2e2c71",
   "metadata": {},
   "outputs": [
    {
     "name": "stderr",
     "output_type": "stream",
     "text": [
      "C:\\Users\\Administrator\\AppData\\Local\\Temp\\ipykernel_4092\\2388656388.py:1: SettingWithCopyWarning: \n",
      "A value is trying to be set on a copy of a slice from a DataFrame.\n",
      "Try using .loc[row_indexer,col_indexer] = value instead\n",
      "\n",
      "See the caveats in the documentation: https://pandas.pydata.org/pandas-docs/stable/user_guide/indexing.html#returning-a-view-versus-a-copy\n",
      "  df_new['Severity Score'] = df.apply(severity, axis=1)\n"
     ]
    }
   ],
   "source": [
    "df_new['Severity Score'] = df.apply(severity, axis=1)"
   ]
  },
  {
   "cell_type": "code",
   "execution_count": 116,
   "id": "9a8e7284",
   "metadata": {},
   "outputs": [
    {
     "name": "stdout",
     "output_type": "stream",
     "text": [
      "      AREA NAME  total_severity_score\n",
      "0   77th Street                  9298\n",
      "1       Central                  8625\n",
      "2    Devonshire                  4510\n",
      "3      Foothill                  3856\n",
      "4        Harbor                  4949\n",
      "5    Hollenbeck                  4454\n",
      "6     Hollywood                  6707\n",
      "7       Mission                  4499\n",
      "8   N Hollywood                  5476\n",
      "9        Newton                  6815\n",
      "10    Northeast                  4476\n",
      "11      Olympic                  6275\n",
      "12      Pacific                  6652\n",
      "13      Rampart                  6267\n",
      "14    Southeast                  7162\n",
      "15    Southwest                  7029\n",
      "16      Topanga                  4541\n",
      "17     Van Nuys                  4751\n",
      "18      West LA                  4763\n",
      "19  West Valley                  4994\n",
      "20     Wilshire                  5212\n"
     ]
    }
   ],
   "source": [
    "print( df_new.groupby('AREA NAME').agg(total_severity_score=('Severity Score', 'sum')).reset_index())"
   ]
  },
  {
   "cell_type": "markdown",
   "id": "a0dcb1c6",
   "metadata": {},
   "source": [
    "### Bonus Part:"
   ]
  },
  {
   "cell_type": "markdown",
   "id": "48f42c88",
   "metadata": {},
   "source": [
    "###### Use the LAT and LON columns to identify crimes that occurred within a specific latitude-longitude bounding box (e.g., downtown area)"
   ]
  },
  {
   "cell_type": "code",
   "execution_count": 120,
   "id": "5f11e048",
   "metadata": {},
   "outputs": [],
   "source": [
    "df_downtown_crimes = df_new[\n",
    "    (df_new['LAT'] >= 34.03) & \n",
    "    (df_new['LAT'] <= 34.05) & \n",
    "    (df_new['LON'] >= -118.300) & \n",
    "    (df_new['LON'] <= -118.200)\n",
    "]"
   ]
  },
  {
   "cell_type": "code",
   "execution_count": 121,
   "id": "c5ae3a8e",
   "metadata": {},
   "outputs": [
    {
     "name": "stdout",
     "output_type": "stream",
     "text": [
      "           DR_NO               Date Rptd   DATE OCC  TIME OCC  AREA  \\\n",
      "6      200117643  09/08/2020 12:00:00 AM 2020-09-08      1430     1   \n",
      "16     240111628  05/20/2024 12:00:00 AM 2024-05-19      1850     1   \n",
      "20     200217237  11/09/2020 12:00:00 AM 2020-11-09      2140     2   \n",
      "25     220120317  09/12/2022 12:00:00 AM 2022-08-23      1200     1   \n",
      "26     210409379  06/06/2021 12:00:00 AM 2021-06-06       610     4   \n",
      "...          ...                     ...        ...       ...   ...   \n",
      "49951  200117094  08/28/2020 12:00:00 AM 2020-08-17      2035     1   \n",
      "49957  230119966  09/15/2023 12:00:00 AM 2023-09-15      2300     1   \n",
      "49976  220111411  05/01/2022 12:00:00 AM 2022-05-01       225     1   \n",
      "49982  220108638  03/20/2022 12:00:00 AM 2021-06-27         1     1   \n",
      "49988  231310722  05/15/2023 12:00:00 AM 2023-05-09      2030    13   \n",
      "\n",
      "        AREA NAME  Rpt Dist No  Part 1-2  Crm Cd  \\\n",
      "6         Central          185         2     624   \n",
      "16        Central          161         1     442   \n",
      "20        Rampart          289         2     740   \n",
      "25        Central          156         1     310   \n",
      "26     Hollenbeck          473         2     626   \n",
      "...           ...          ...       ...     ...   \n",
      "49951     Central          182         1     331   \n",
      "49957     Central          185         2     624   \n",
      "49976     Central          182         1     210   \n",
      "49982     Central          185         1     310   \n",
      "49988      Newton         1307         1     330   \n",
      "\n",
      "                                             Crm Cd Desc  ...   Status Desc  \\\n",
      "6                               BATTERY - SIMPLE ASSAULT  ...   Invest Cont   \n",
      "16              SHOPLIFTING - PETTY THEFT ($950 & UNDER)  ...   Invest Cont   \n",
      "20     VANDALISM - FELONY ($400 & OVER, ALL CHURCH VA...  ...   Invest Cont   \n",
      "25                                              BURGLARY  ...   Invest Cont   \n",
      "26                     INTIMATE PARTNER - SIMPLE ASSAULT  ...   Invest Cont   \n",
      "...                                                  ...  ...           ...   \n",
      "49951  THEFT FROM MOTOR VEHICLE - GRAND ($950.01 AND ...  ...   Invest Cont   \n",
      "49957                           BATTERY - SIMPLE ASSAULT  ...   Adult Other   \n",
      "49976                                            ROBBERY  ...  Adult Arrest   \n",
      "49982                                           BURGLARY  ...   Invest Cont   \n",
      "49988                              BURGLARY FROM VEHICLE  ...   Invest Cont   \n",
      "\n",
      "       Crm Cd 1                                 LOCATION      LAT       LON  \\\n",
      "6         624.0  1000 S  SANTEE                       ST  34.0378 -118.2561   \n",
      "16        442.0   700 S  FIGUEROA                     ST  34.0483 -118.2631   \n",
      "20        740.0                                     11TH  34.0456 -118.2726   \n",
      "25        310.0   500    WALL                         ST  34.0449 -118.2458   \n",
      "26        626.0                               HOLLENBECK  34.0377 -118.2182   \n",
      "...         ...                                      ...      ...       ...   \n",
      "49951     331.0  1000 S  GRAND                        AV  34.0421 -118.2614   \n",
      "49957     624.0  1000 S  HILL                         ST  34.0417 -118.2584   \n",
      "49976     210.0  1200 S  GRAND                        AV  34.0401 -118.2633   \n",
      "49982     310.0                         1000 S  BROADWAY  34.0409 -118.2574   \n",
      "49988     330.0  1600 E  OLYMPIC                      BL  34.0349 -118.2436   \n",
      "\n",
      "       Year Month Day  Hour Severity Score  \n",
      "6      2020     9   8    14              5  \n",
      "16     2024     5  19    18              1  \n",
      "20     2020    11   9    21              5  \n",
      "25     2022     8  23    12              3  \n",
      "26     2021     6   6     6              5  \n",
      "...     ...   ...  ..   ...            ...  \n",
      "49951  2020     8  17    20              1  \n",
      "49957  2023     9  15    23              5  \n",
      "49976  2022     5   1     2              5  \n",
      "49982  2021     6  27     0              3  \n",
      "49988  2023     5   9    20              1  \n",
      "\n",
      "[3968 rows x 27 columns]\n"
     ]
    }
   ],
   "source": [
    "print(df_downtown_crimes)"
   ]
  }
 ],
 "metadata": {
  "kernelspec": {
   "display_name": "Python 3 (ipykernel)",
   "language": "python",
   "name": "python3"
  },
  "language_info": {
   "codemirror_mode": {
    "name": "ipython",
    "version": 3
   },
   "file_extension": ".py",
   "mimetype": "text/x-python",
   "name": "python",
   "nbconvert_exporter": "python",
   "pygments_lexer": "ipython3",
   "version": "3.10.9"
  }
 },
 "nbformat": 4,
 "nbformat_minor": 5
}
